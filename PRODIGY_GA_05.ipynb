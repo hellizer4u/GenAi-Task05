{
  "cells": [
    {
      "cell_type": "markdown",
      "metadata": {
        "id": "view-in-github",
        "colab_type": "text"
      },
      "source": [
        "<a href=\"https://colab.research.google.com/github/hellizer4u/GenAi-Task05/blob/main/PRODIGY_GA_05.ipynb\" target=\"_parent\"><img src=\"https://colab.research.google.com/assets/colab-badge.svg\" alt=\"Open In Colab\"/></a>"
      ]
    },
    {
      "cell_type": "code",
      "execution_count": null,
      "metadata": {
        "id": "ssCuDFF0X8qN"
      },
      "outputs": [],
      "source": [
        "import torch\n",
        "import torch.nn as nn\n",
        "import torch.optim as optim\n",
        "from torchvision import models, transforms\n",
        "from PIL import Image\n",
        "import matplotlib.pyplot as plt\n",
        "from google.colab import files\n"
      ]
    },
    {
      "cell_type": "code",
      "source": [
        "import torch\n",
        "import torch.nn as nn\n",
        "import torch.optim as optim\n",
        "from torchvision import models, transforms\n",
        "from PIL import Image\n",
        "import matplotlib.pyplot as plt\n",
        "from google.colab import files\n"
      ],
      "metadata": {
        "id": "OqMbbSuD7Dny"
      },
      "execution_count": null,
      "outputs": []
    },
    {
      "cell_type": "code",
      "execution_count": null,
      "metadata": {
        "id": "wvIdyBMnX9rT"
      },
      "outputs": [],
      "source": [
        "device = torch.device(\"cuda\" if torch.cuda.is_available() else \"cpu\")\n",
        "print(\"Using:\", device)\n"
      ]
    },
    {
      "cell_type": "code",
      "execution_count": null,
      "metadata": {
        "id": "zLiPWsRXYAtO"
      },
      "outputs": [],
      "source": [
        "uploaded = files.upload()  # Upload 'content.jpg' and 'style.jpg'\n"
      ]
    },
    {
      "cell_type": "code",
      "execution_count": null,
      "metadata": {
        "id": "j-uwlvIJYh0k"
      },
      "outputs": [],
      "source": [
        "def load_image(path, max_size=400, shape=None):\n",
        "    image = Image.open(path).convert('RGB')\n",
        "\n",
        "    if max(image.size) > max_size:\n",
        "        size = max_size\n",
        "    else:\n",
        "        size = max(image.size)\n",
        "\n",
        "    if shape is not None:\n",
        "        size = shape\n",
        "\n",
        "    transform = transforms.Compose([\n",
        "        transforms.Resize(size),\n",
        "        transforms.ToTensor(),\n",
        "        transforms.Normalize(\n",
        "            mean=[0.485, 0.456, 0.406],\n",
        "            std=[0.229, 0.224, 0.225]\n",
        "        )\n",
        "    ])\n",
        "\n",
        "    image = transform(image)[:3, :, :].unsqueeze(0)\n",
        "    return image.to(device)\n"
      ]
    },
    {
      "cell_type": "code",
      "source": [
        "content = load_image(\"content.jpg\")\n",
        "style = load_image(\"style.jpg\", shape=content.shape[-2:])\n"
      ],
      "metadata": {
        "id": "rk_semoB_ml-"
      },
      "execution_count": null,
      "outputs": []
    },
    {
      "cell_type": "code",
      "source": [
        "vgg = models.vgg19(pretrained=True).features.to(device).eval()\n"
      ],
      "metadata": {
        "id": "qPG6JEGXCUM5"
      },
      "execution_count": null,
      "outputs": []
    },
    {
      "cell_type": "code",
      "source": [
        "for param in vgg.parameters():\n",
        "    param.requires_grad = False\n"
      ],
      "metadata": {
        "id": "jUW5kUdBCXP6"
      },
      "execution_count": null,
      "outputs": []
    },
    {
      "cell_type": "code",
      "source": [
        "def get_features(image, model, layers=None):\n",
        "    if layers is None:\n",
        "        layers = {\n",
        "            '0': 'conv1_1',\n",
        "            '5': 'conv2_1',\n",
        "            '10': 'conv3_1',\n",
        "            '19': 'conv4_1',\n",
        "            '21': 'conv4_2',  # content\n",
        "            '28': 'conv5_1'\n",
        "        }\n",
        "    features = {}\n",
        "    x = image\n",
        "    for name, layer in model._modules.items():\n",
        "        x = layer(x)\n",
        "        if name in layers:\n",
        "            features[layers[name]] = x\n",
        "    return features\n"
      ],
      "metadata": {
        "id": "kW7BrlonCX7S"
      },
      "execution_count": null,
      "outputs": []
    },
    {
      "cell_type": "code",
      "source": [
        "def gram_matrix(tensor):\n",
        "    _, d, h, w = tensor.size()\n",
        "    tensor = tensor.view(d, h * w)\n",
        "    gram = torch.mm(tensor, tensor.t())\n",
        "    return gram\n"
      ],
      "metadata": {
        "id": "0f24IVXQCaY3"
      },
      "execution_count": null,
      "outputs": []
    },
    {
      "cell_type": "code",
      "source": [
        "content_features = get_features(content, vgg)\n",
        "style_features = get_features(style, vgg)\n"
      ],
      "metadata": {
        "id": "EXiOBJDVCeMi"
      },
      "execution_count": null,
      "outputs": []
    },
    {
      "cell_type": "code",
      "source": [
        "style_grams = {layer: gram_matrix(style_features[layer]) for layer in style_features}\n"
      ],
      "metadata": {
        "id": "ZIQBEk5HCgX6"
      },
      "execution_count": null,
      "outputs": []
    },
    {
      "cell_type": "code",
      "source": [
        "target = content.clone().requires_grad_(True).to(device)\n"
      ],
      "metadata": {
        "id": "NBWW7ONRCiJO"
      },
      "execution_count": null,
      "outputs": []
    },
    {
      "cell_type": "code",
      "source": [
        "style_weights = {\n",
        "    'conv1_1': 1.0,\n",
        "    'conv2_1': 0.75,\n",
        "    'conv3_1': 0.2,\n",
        "    'conv4_1': 0.2,\n",
        "    'conv5_1': 0.1\n",
        "}\n",
        "\n",
        "content_weight = 1e4  # alpha\n",
        "style_weight = 1e2    # beta\n"
      ],
      "metadata": {
        "id": "g6fvUxh6CkWf"
      },
      "execution_count": null,
      "outputs": []
    },
    {
      "cell_type": "code",
      "source": [
        "optimizer = optim.Adam([target], lr=0.003)\n"
      ],
      "metadata": {
        "id": "Sr5IWfYDCmJq"
      },
      "execution_count": null,
      "outputs": []
    },
    {
      "cell_type": "code",
      "source": [
        "steps = 500\n",
        "\n",
        "for step in range(1, steps+1):\n",
        "    target_features = get_features(target, vgg)\n",
        "\n",
        "    # Content loss\n",
        "    content_loss = torch.mean((target_features['conv4_2'] - content_features['conv4_2']) ** 2)\n",
        "\n",
        "    # Style loss\n",
        "    style_loss = 0\n",
        "    for layer in style_weights:\n",
        "        target_feat = target_features[layer]\n",
        "        target_gram = gram_matrix(target_feat)\n",
        "        style_gram = style_grams[layer]\n",
        "        layer_loss = style_weights[layer] * torch.mean((target_gram - style_gram) ** 2)\n",
        "        _, d, h, w = target_feat.shape\n",
        "        style_loss += layer_loss / (d * h * w)\n",
        "\n",
        "    # Total loss\n",
        "    total_loss = content_weight * content_loss + style_weight * style_loss\n",
        "\n",
        "    # Backprop\n",
        "    optimizer.zero_grad()\n",
        "    total_loss.backward()\n",
        "    optimizer.step()\n",
        "\n",
        "    # Print\n",
        "    if step % 50 == 0:\n",
        "        print(f\"Step {step}/{steps}, Total Loss: {total_loss.item():.4f}\")\n"
      ],
      "metadata": {
        "id": "dpgBfi0ECn1S"
      },
      "execution_count": null,
      "outputs": []
    },
    {
      "cell_type": "code",
      "source": [
        "def im_convert(tensor):\n",
        "    image = tensor.to(\"cpu\").clone().detach()\n",
        "    image = image.squeeze(0)\n",
        "    image = image.permute(1, 2, 0)\n",
        "    image = image * torch.tensor((0.229, 0.224, 0.225)) + torch.tensor((0.485, 0.456, 0.406))\n",
        "    image = image.clamp(0, 1)\n",
        "    return image\n"
      ],
      "metadata": {
        "id": "uwA18luJ6w7y"
      },
      "execution_count": null,
      "outputs": []
    },
    {
      "cell_type": "code",
      "source": [
        "# 1. Import libraries\n",
        "import torch\n",
        "import torch.nn as nn\n",
        "import torch.optim as optim\n",
        "from torchvision import transforms, models\n",
        "from PIL import Image\n",
        "import matplotlib.pyplot as plt\n",
        "\n",
        "# 2. Check for GPU\n",
        "device = torch.device(\"cuda\" if torch.cuda.is_available() else \"cpu\")\n",
        "\n",
        "# 3. Image loader\n",
        "def load_image(img_path, max_size=400, shape=None):\n",
        "    image = Image.open(img_path).convert('RGB')\n",
        "\n",
        "    if max_size is not None:\n",
        "        size = max(image.size)\n",
        "        if size > max_size:\n",
        "            size = max_size\n",
        "        else:\n",
        "            size = max(image.size)\n",
        "    else:\n",
        "        size = max(image.size)\n",
        "\n",
        "    if shape is not None:\n",
        "        size = shape  # shape should be a tuple like (400, 400)\n",
        "\n",
        "    in_transform = transforms.Compose([\n",
        "        transforms.Resize(size),\n",
        "        transforms.ToTensor(),\n",
        "        transforms.Normalize((0.485, 0.456, 0.406),\n",
        "                             (0.229, 0.224, 0.225))\n",
        "    ])\n",
        "\n",
        "    image = in_transform(image)[:3, :, :].unsqueeze(0)\n",
        "    return image\n",
        "\n",
        "# 4. Load images from your uploads\n",
        "content = load_image(\"content.jpg\").to(device)\n",
        "style = load_image(\"style.jpg\", shape=tuple(content.shape[-2:])).to(device)\n",
        "\n",
        "# 5. Clone target\n",
        "target = content.clone().requires_grad_(True).to(device)\n",
        "\n",
        "# 6. Convert tensor to image for display\n",
        "def im_convert(tensor):\n",
        "    image = tensor.to(\"cpu\").clone().detach()\n",
        "    image = image.numpy().squeeze()\n",
        "    image = image.transpose(1, 2, 0)\n",
        "    image = image * [0.229, 0.224, 0.225] + [0.485, 0.456, 0.406]\n",
        "    image = image.clip(0, 1)\n",
        "    return image\n",
        "\n",
        "# 7. Display all three images\n",
        "fig, (ax1, ax2, ax3) = plt.subplots(1, 3, figsize=(18, 6))\n",
        "\n",
        "ax1.imshow(im_convert(content))\n",
        "ax1.set_title(\"Content Image\")\n",
        "ax1.axis(\"off\")\n",
        "\n",
        "ax2.imshow(im_convert(style))\n",
        "ax2.set_title(\"Style Image\")\n",
        "ax2.axis(\"off\")\n",
        "\n",
        "ax3.imshow(im_convert(target))\n",
        "ax3.set_title(\"Target Image (Initially same as content)\")\n",
        "ax3.axis(\"off\")\n",
        "\n",
        "plt.show()\n"
      ],
      "metadata": {
        "id": "lZEVGIJW8HT_"
      },
      "execution_count": null,
      "outputs": []
    },
    {
      "cell_type": "code",
      "source": [
        "# 8. Define VGG model and extract layers\n",
        "vgg = models.vgg19(pretrained=True).features.to(device).eval()\n",
        "\n",
        "# Freeze all VGG parameters\n",
        "for param in vgg.parameters():\n",
        "    param.requires_grad = False\n",
        "\n",
        "# Layers for style and content extraction\n",
        "content_layers = ['conv4_2']\n",
        "style_layers = ['conv1_1', 'conv2_1', 'conv3_1', 'conv4_1', 'conv5_1']\n",
        "\n",
        "# Helper to get correct layer index\n",
        "def get_features(image, model, layers=None):\n",
        "    features = {}\n",
        "    x = image\n",
        "    layer_mapping = {\n",
        "        '0': 'conv1_1', '5': 'conv2_1', '10': 'conv3_1',\n",
        "        '19': 'conv4_1', '21': 'conv4_2', '28': 'conv5_1'\n",
        "    }\n",
        "\n",
        "    for name, layer in model._modules.items():\n",
        "        x = layer(x)\n",
        "        if name in layer_mapping:\n",
        "            layer_name = layer_mapping[name]\n",
        "            if layers is None or layer_name in layers:\n",
        "                features[layer_name] = x\n",
        "    return features\n",
        "\n",
        "# Gram Matrix for style\n",
        "def gram_matrix(tensor):\n",
        "    _, d, h, w = tensor.size()\n",
        "    tensor = tensor.view(d, h * w)\n",
        "    gram = torch.mm(tensor, tensor.t())\n",
        "    return gram\n",
        "\n",
        "# 9. Get content and style features\n",
        "content_features = get_features(content, vgg, content_layers)\n",
        "style_features = get_features(style, vgg, style_layers)\n",
        "style_grams = {layer: gram_matrix(style_features[layer]) for layer in style_features}\n",
        "\n",
        "# 10. Define weights\n",
        "style_weights = {'conv1_1': 1.0, 'conv2_1': 0.75, 'conv3_1': 0.2, 'conv4_1': 0.2, 'conv5_1': 0.2}\n",
        "content_weight = 1e4  # alpha\n",
        "style_weight = 1e2    # beta\n",
        "\n",
        "# 11. Optimizer\n",
        "optimizer = optim.Adam([target], lr=0.003)\n",
        "\n",
        "# 12. Style transfer training loop\n",
        "steps = 500  # can increase for better results\n",
        "\n",
        "for step in range(1, steps + 1):\n",
        "    target_features = get_features(target, vgg)\n",
        "\n",
        "    content_loss = torch.mean((target_features['conv4_2'] - content_features['conv4_2'])**2)\n",
        "\n",
        "    style_loss = 0\n",
        "    for layer in style_weights:\n",
        "        target_feat = target_features[layer]\n",
        "        target_gram = gram_matrix(target_feat)\n",
        "        style_gram = style_grams[layer]\n",
        "        layer_style_loss = style_weights[layer] * torch.mean((target_gram - style_gram)**2)\n",
        "        style_loss += layer_style_loss / (target_feat.shape[1]**2)\n",
        "\n",
        "    total_loss = content_weight * content_loss + style_weight * style_loss\n",
        "\n",
        "    optimizer.zero_grad()\n",
        "    total_loss.backward()\n",
        "    optimizer.step()\n",
        "\n",
        "    if step % 100 == 0:\n",
        "        print(f\"Step {step}, Total loss: {total_loss.item():.4f}\")\n",
        "\n",
        "# 13. Display final styled image\n",
        "plt.figure(figsize=(10, 5))\n",
        "plt.imshow(im_convert(target))\n",
        "plt.title(\"Stylized Output\")\n",
        "plt.axis(\"off\")\n",
        "plt.show()\n"
      ],
      "metadata": {
        "id": "HDjArIMb8dN7"
      },
      "execution_count": null,
      "outputs": []
    }
  ],
  "metadata": {
    "accelerator": "GPU",
    "colab": {
      "gpuType": "T4",
      "provenance": [],
      "include_colab_link": true
    },
    "kernelspec": {
      "display_name": "Python 3",
      "name": "python3"
    },
    "language_info": {
      "name": "python"
    }
  },
  "nbformat": 4,
  "nbformat_minor": 0
}